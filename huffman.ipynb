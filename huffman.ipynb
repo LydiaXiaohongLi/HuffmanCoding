{
 "cells": [
  {
   "cell_type": "code",
   "execution_count": 1,
   "metadata": {},
   "outputs": [],
   "source": [
    "import heapq\n",
    "\n",
    "with open(r'Data\\huffman.txt','r') as f:\n",
    "    weight_list=[int(line.rstrip()) for line in f][1:]\n"
   ]
  },
  {
   "cell_type": "code",
   "execution_count": 2,
   "metadata": {},
   "outputs": [],
   "source": [
    "class Huffman(object):\n",
    "    def __init__(self, weight_list):\n",
    "        #weight_heap stores the weight of current merged and unmerged keys\n",
    "        #initialize weight_heap with all keys with their corresponding weight\n",
    "        #recap: Huffman code merges two keys with minimum weight as new key, and sum of two keys' weights as merged key weight for each iteration\n",
    "        self.weight_heap=[(v,str(k)) for k,v in enumerate(weight_list)]\n",
    "        heapq.heapify(self.weight_heap)\n",
    "        #huffman_dict stores the codeword for each key, initialize with empty dict\n",
    "        self.huffman_dict={}\n",
    "        #key_count stores total number of keys\n",
    "        self.key_count=len(weight_list)     \n",
    "    def encode(self):\n",
    "        #every huffman iteration, pops two nodes and push one nodes, hence total needs n-1 huffman iteration\n",
    "        for i in range(self.key_count-1):\n",
    "            #Huffman algo: extract two keys (including merged keys) with minimum weight\n",
    "            item1=heapq.heappop(self.weight_heap)\n",
    "            item2=heapq.heappop(self.weight_heap)\n",
    "            #Huffman algo: if both keys are not existing in huffman code tree yet\n",
    "            #encode the two keys with 0 and 1\n",
    "            if ((len(item1[1].split()) ==1) & (len(item2[1].split()) ==1)):                \n",
    "                self.huffman_dict[item1[1].split()[0]]='0'\n",
    "                self.huffman_dict[item2[1].split()[0]]='1'\n",
    "                heapq.heappush(self.weight_heap,(item1[0]+item2[0],item1[1]+' '+item2[1]))               \n",
    "            #Huffman algo: if the smaller popped node is not a composite node, but the bigger popped node is a composite node\n",
    "            #encode the smaller key with 0, and append '1' in all keys in the bigger popped node\n",
    "            elif ((len(item1[1].split()) ==1) & (len(item2[1].split()) >1)):    \n",
    "                for key in item2[1].split():\n",
    "                    self.huffman_dict[key]='1'+self.huffman_dict[key]\n",
    "                self.huffman_dict[item1[1].split()[0]]='0'\n",
    "                heapq.heappush(self.weight_heap,(item1[0]+item2[0],item1[1]+' '+item2[1]))\n",
    "            #Huffman algo: if the smaller popped node is a composite node, but the bigger popped node is not a composite node\n",
    "            #encode the bigger key with 1, and append '0' in all keys in the smaller popped node                \n",
    "            elif ((len(item1[1].split()) >1) & (len(item2[1].split()) ==1)):\n",
    "                for key in item1[1].split():\n",
    "                    self.huffman_dict[key]='0'+self.huffman_dict[key] \n",
    "                self.huffman_dict[item2[1].split()[0]]='1'\n",
    "                heapq.heappush(self.weight_heap,(item1[0]+item2[0],item1[1]+' '+item2[1]))\n",
    "            #Huffman algo: if both popped nodes are composite nodes\n",
    "            #append '0' in all keys in the smaller popped node, and append '1' in all keys in the bigger popped node             \n",
    "            else:\n",
    "                for key in item1[1].split():\n",
    "                    self.huffman_dict[key]='0'+self.huffman_dict[key] \n",
    "                for key in item2[1].split():\n",
    "                    self.huffman_dict[key]='1'+self.huffman_dict[key]\n",
    "                heapq.heappush(self.weight_heap,(item1[0]+item2[0],item1[1]+' '+item2[1]))\n",
    "            #Huffman algo: if both keys exist in huffman code tree, ignore and continue  \n",
    "    def get_max_code_len(self):\n",
    "        return max([len(self.huffman_dict[x]) for x in self.huffman_dict])\n",
    "    def get_min_code_len(self):\n",
    "        return min([len(self.huffman_dict[x]) for x in self.huffman_dict])            \n",
    "        "
   ]
  },
  {
   "cell_type": "code",
   "execution_count": 3,
   "metadata": {},
   "outputs": [
    {
     "name": "stdout",
     "output_type": "stream",
     "text": [
      "max code length: 19, min code length: 9\n"
     ]
    }
   ],
   "source": [
    "huffman=Huffman(weight_list)\n",
    "huffman.encode()\n",
    "print('max code length: '+ str(huffman.get_max_code_len()) +', min code length: '+str(huffman.get_min_code_len()))\n",
    "#Tested"
   ]
  },
  {
   "cell_type": "code",
   "execution_count": null,
   "metadata": {},
   "outputs": [],
   "source": []
  }
 ],
 "metadata": {
  "kernelspec": {
   "display_name": "Python 3",
   "language": "python",
   "name": "python3"
  },
  "language_info": {
   "codemirror_mode": {
    "name": "ipython",
    "version": 3
   },
   "file_extension": ".py",
   "mimetype": "text/x-python",
   "name": "python",
   "nbconvert_exporter": "python",
   "pygments_lexer": "ipython3",
   "version": "3.6.4"
  }
 },
 "nbformat": 4,
 "nbformat_minor": 2
}
